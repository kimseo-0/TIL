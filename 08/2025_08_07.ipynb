{
 "cells": [
  {
   "cell_type": "markdown",
   "id": "9e4b6244",
   "metadata": {},
   "source": [
    "# UV 가상환경 세팅하기"
   ]
  },
  {
   "cell_type": "markdown",
   "id": "b680d16f",
   "metadata": {},
   "source": [
    "`uv init` : uv 환경 세팅"
   ]
  },
  {
   "cell_type": "markdown",
   "id": "d96a1933",
   "metadata": {},
   "source": [
    "`uv venv` : 가상환경 설치"
   ]
  },
  {
   "cell_type": "markdown",
   "id": "7875090b",
   "metadata": {},
   "source": [
    "`.venv\\Scripts\\activate` : 가상환경 들어가기"
   ]
  },
  {
   "cell_type": "markdown",
   "id": "210f5a1a",
   "metadata": {},
   "source": [
    "`uv add 내가 설치해야하는 모듈 이름`"
   ]
  },
  {
   "cell_type": "markdown",
   "id": "d820d41c",
   "metadata": {},
   "source": [
    "+ 추가   \n",
    "\n",
    "`uv add ipykernel` : 주피터 노트북   \n",
    "`uv pip install .` : 내가 의존성을 가진 모든 모듈을 설치해라"
   ]
  },
  {
   "cell_type": "markdown",
   "id": "b951d52e",
   "metadata": {},
   "source": [
    "# git 정리하기"
   ]
  },
  {
   "cell_type": "markdown",
   "id": "2b83c9fb",
   "metadata": {},
   "source": [
    "1. github 레포지토리 만들기"
   ]
  },
  {
   "cell_type": "markdown",
   "id": "902cdc75",
   "metadata": {},
   "source": [
    "git clone \"url 주소\""
   ]
  },
  {
   "cell_type": "markdown",
   "id": "8645eceb",
   "metadata": {},
   "source": [
    "`.gitignore` 파일 만들기"
   ]
  },
  {
   "cell_type": "markdown",
   "id": "37c3c63c",
   "metadata": {},
   "source": [
    "# 개발 용어 공부하기"
   ]
  },
  {
   "cell_type": "markdown",
   "id": "74f6af8a",
   "metadata": {},
   "source": []
  }
 ],
 "metadata": {
  "kernelspec": {
   "display_name": "TIL (3.13.5)",
   "language": "python",
   "name": "python3"
  },
  "language_info": {
   "codemirror_mode": {
    "name": "ipython",
    "version": 3
   },
   "file_extension": ".py",
   "mimetype": "text/x-python",
   "name": "python",
   "nbconvert_exporter": "python",
   "pygments_lexer": "ipython3",
   "version": "3.13.5"
  }
 },
 "nbformat": 4,
 "nbformat_minor": 5
}
