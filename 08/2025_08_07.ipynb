{
 "cells": [
  {
   "cell_type": "markdown",
   "id": "9e4b6244",
   "metadata": {},
   "source": [
    "# UV 가상환경 세팅하기"
   ]
  },
  {
   "cell_type": "markdown",
   "id": "b680d16f",
   "metadata": {},
   "source": [
    "1. `uv init` : uv 환경 세팅"
   ]
  },
  {
   "cell_type": "markdown",
   "id": "d96a1933",
   "metadata": {},
   "source": [
    "2. `uv venv` : 가상환경 설치"
   ]
  },
  {
   "cell_type": "markdown",
   "id": "7875090b",
   "metadata": {},
   "source": [
    "3. `.venv\\Scripts\\activate` : 가상환경 들어가기"
   ]
  },
  {
   "cell_type": "markdown",
   "id": "210f5a1a",
   "metadata": {},
   "source": [
    "4. `uv add 내가 설치해야하는 모듈 이름`"
   ]
  },
  {
   "cell_type": "markdown",
   "id": "d820d41c",
   "metadata": {},
   "source": [
    "+ 추가   \n",
    "\n",
    "`uv add ipykernel` : 주피터 노트북   \n",
    "`uv pip install .` : 내가 의존성을 가진 모든 모듈을 설치해라"
   ]
  },
  {
   "cell_type": "markdown",
   "id": "59c63336",
   "metadata": {},
   "source": [
    "# UV 가상환경 살제 이후 재설치 하는 방법\n",
    "- pyproject.toml 과 .python-version 파일이 있는 경우\n",
    "- 기존에 쓰던 컴퓨터가 아닌 다른 컴퓨터에서 깃허브 클론을 한 경우"
   ]
  },
  {
   "cell_type": "markdown",
   "id": "7535b5ae",
   "metadata": {},
   "source": [
    "1. `uv venv` : 가상환경 설치"
   ]
  },
  {
   "cell_type": "markdown",
   "id": "3987876d",
   "metadata": {},
   "source": [
    "2. `.venv\\Scripts\\activate` : 가상환경 들어가기"
   ]
  },
  {
   "cell_type": "markdown",
   "id": "eedae7e4",
   "metadata": {},
   "source": [
    "3. `uv pip install .` : 내가 의존성을 가진 모든 모듈을 설치해라"
   ]
  }
 ],
 "metadata": {
  "kernelspec": {
   "display_name": "TIL (3.13.5)",
   "language": "python",
   "name": "python3"
  },
  "language_info": {
   "codemirror_mode": {
    "name": "ipython",
    "version": 3
   },
   "file_extension": ".py",
   "mimetype": "text/x-python",
   "name": "python",
   "nbconvert_exporter": "python",
   "pygments_lexer": "ipython3",
   "version": "3.13.5"
  }
 },
 "nbformat": 4,
 "nbformat_minor": 5
}
